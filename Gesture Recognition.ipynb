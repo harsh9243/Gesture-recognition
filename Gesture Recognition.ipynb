{
 "cells": [
  {
   "cell_type": "markdown",
   "metadata": {},
   "source": [
    "# Gesture Recognition\n",
    "In this group project, you are going to build a 3D Conv model that will be able to predict the 5 gestures correctly. Please import the following libraries to get started."
   ]
  },
  {
   "cell_type": "code",
   "execution_count": 4,
   "metadata": {},
   "outputs": [],
   "source": [
    "import numpy as np\n",
    "import os\n",
    "# from scipy.misc.pilutil import imread, imresize\n",
    "import datetime\n",
    "import os\n",
    "from PIL import Image, ImageFilter, ImageEnhance\n",
    "import matplotlib.pyplot as plt\n",
    "%matplotlib inline\n",
    "import warnings\n",
    "warnings.filterwarnings(\"ignore\")"
   ]
  },
  {
   "cell_type": "markdown",
   "metadata": {},
   "source": [
    "We set the random seed so that the results don't vary drastically."
   ]
  },
  {
   "cell_type": "code",
   "execution_count": 6,
   "metadata": {},
   "outputs": [],
   "source": [
    "import os\n",
    "os.environ['PYTHONHASHSEED']=\"30\"\n",
    "np.random.seed(30)\n",
    "import random as rn\n",
    "rn.seed(30)\n",
    "import tensorflow as tf\n",
    "tf.random.set_seed(30)\n",
    "from keras import backend as K"
   ]
  },
  {
   "cell_type": "markdown",
   "metadata": {},
   "source": [
    "In this block, you read the folder names for training and validation. You also set the `batch_size` here. Note that you set the batch size in such a way that you are able to use the GPU in full capacity. You keep increasing the batch size until the machine throws an error."
   ]
  },
  {
   "cell_type": "code",
   "execution_count": 7,
   "metadata": {},
   "outputs": [],
   "source": [
    "# train and validatiaon data creator with ablation\n",
    "# when ablation is 10, then 10 folders for each label will be selected.\n",
    "def get_data(path, ablation=None):\n",
    "    train_doc = np.random.permutation(open(path+'train.csv').readlines())\n",
    "    val_doc = np.random.permutation(open(path+'val.csv').readlines())\n",
    "    counts = np.zeros(5) # count for loading folders for 5 classes\n",
    "    train_data = []\n",
    "    val_data = []\n",
    "    # when ablation is None pass full training and val data\n",
    "    if ablation is not None:\n",
    "        # iterating train doc\n",
    "        for doc in train_doc:\n",
    "            lable = int(doc.strip().split(';')[2])\n",
    "            if counts[lable] < ablation:\n",
    "                train_data.append(doc)\n",
    "                counts[lable] += 1 \n",
    "        counts = np.zeros(5)\n",
    "        # iterating val doc\n",
    "        for doc in val_doc:\n",
    "            lable = int(doc.strip().split(';')[2])\n",
    "            if counts[lable] < ablation:\n",
    "                val_data.append(doc)\n",
    "                counts[lable] += 1\n",
    "    else:\n",
    "        train_data, val_data = train_doc, val_doc\n",
    "    return train_data, val_data"
   ]
  },
  {
   "cell_type": "code",
   "execution_count": 8,
   "metadata": {},
   "outputs": [],
   "source": [
    "train_doc, val_doc = get_data('datasets/Project_data/', ablation=None)\n",
    "batch_size = 32 # experiment with the batch size\n",
    "enable_augmentation = False # augmentation of Data\n",
    "# sequence ids\n",
    "# selecting alternate frames from 7 to 26.\n",
    "seq_idx = range(7,26,2)\n",
    "# image dimensions\n",
    "dim_x, dim_y = 120, 120"
   ]
  },
  {
   "cell_type": "markdown",
   "metadata": {},
   "source": [
    "## Generator\n",
    "This is one of the most important part of the code. The overall structure of the generator has been given. In the generator, you are going to preprocess the images as you have images of 2 different dimensions as well as create a batch of video frames. You have to experiment with `img_idx`, `y`,`z` and normalization such that you get high accuracy."
   ]
  },
  {
   "cell_type": "code",
   "execution_count": 48,
   "metadata": {
    "scrolled": true
   },
   "outputs": [],
   "source": [
    "# generator with augmentation for train data\n",
    "def generator(source_path, folder_list, batch_size,  is_train = False, augmention = False, debug=False):\n",
    "    print( 'Source path = ', source_path, '; batch size =', batch_size)\n",
    "    img_idx = 30 #create a list of image numbers you want to use for a particular video\n",
    "    # count = 0\n",
    "    while True:\n",
    "#         t = np.random.permutation(folder_list)\n",
    "        if is_train and augmention:\n",
    "            t = np.concatenate((np.random.permutation(folder_list), np.random.permutation(folder_list)))\n",
    "        else:\n",
    "            t = np.random.permutation(folder_list)\n",
    "        if len(train_doc)%batch_size == 0:\n",
    "            num_batches = len(train_doc)//batch_size # calculate the number of batches number of sequences/batchsize 663/10 = 66, 3 rem\n",
    "        else:\n",
    "            num_batches = len(train_doc)//batch_size + 1\n",
    "        for batch in range(num_batches): # we iterate over the number of batches\n",
    "            x = img_idx\n",
    "            y=120\n",
    "            z=120\n",
    "            batch_data = np.zeros((batch_size,x,y,z,3)) # x is the number of images you use for each video, (y,z) is the final size of the input images and 3 is the number of channels RGB\n",
    "            batch_labels = np.zeros((batch_size,5)) # batch_labels is the one hot representation of the output\n",
    "            for folder in range(batch_size): # iterate over the batch_size\n",
    "#                 print (\"batch, video\", batch, folder + (batch*batch_size))\n",
    "                if folder + (batch*batch_size) >= len(t):\n",
    "#                     print(\"Breaking\")\n",
    "                    break\n",
    "                # print(source_path+'/'+ t[folder + (batch*batch_size)].split(';')[0])\n",
    "                imgs = os.listdir(source_path+'/'+ t[folder + (batch*batch_size)].split(';')[0]) # read all the images in the folder\n",
    "                # print(type(imgs))\n",
    "                # print(imgs)\n",
    "                aug_type = None\n",
    "                if is_train and augmention and rn.randint(0,1) == 1:\n",
    "                    aug_type = rn.randint(0, 4) #randomly selecting augmentation type\n",
    "                for idx,item in enumerate(range(img_idx)): #  Iterate iver the frames/images of a folder to read them in\n",
    "                    # print(source_path+'/'+ t[folder + (batch*batch_size)].strip().split(';')[0]+'/'+imgs[item])\n",
    "                    image = Image.open(source_path+'/'+ t[folder + (batch*batch_size)].strip().split(';')[0]+'/'+imgs[item])\n",
    "                    image_array = np.array(image)\n",
    "                    # print(\"image array before shape\", image_array.shape)\n",
    "                    # print(\"image array before\", image_array)\n",
    "                    if image_array.shape[1] > image_array.shape[0]:\n",
    "                        diff_px = image_array.shape[1] - image_array.shape[0]\n",
    "                        crop_start = diff_px//2\n",
    "                        crop_end = crop_start + image_array.shape[0]\n",
    "                        image_array = image_array[:, crop_start:crop_end]\n",
    "                    elif image_array.shape[0] > image_array.shape[1]:\n",
    "                        diff_px = image_array.shape[0] - image_array.shape[1]\n",
    "                        crop_start = diff_px//2\n",
    "                        crop_end = crop_start + image_array.shape[1]\n",
    "                        image_array = image_array[:, crop_start:crop_end]\n",
    "                    # print(\"image array after shape\", image_array.shape)\n",
    "                    image = Image.fromarray(image_array)\n",
    "                    img_resized = image.resize((y, z))\n",
    "                    \n",
    "#                     if aug_type is not None:\n",
    "#                         if aug_type == 0: # edge Enhancement\n",
    "#                             resized_im = np.array(Image.fromarray(resized_im, 'RGB').filter(ImageFilter.EDGE_ENHANCE))\n",
    "#                         elif aug_type == 1: # adding gaussian blur\n",
    "#                             resized_im = np.array(Image.fromarray(resized_im, 'RGB').filter(ImageFilter.GaussianBlur(1)))\n",
    "#                         elif aug_type == 2: # enchancing image detailing\n",
    "#                             resized_im = np.array(Image.fromarray(resized_im, 'RGB').filter(ImageFilter.DETAIL))\n",
    "#                         elif aug_type == 3: # sharpening image\n",
    "#                             resized_im = np.array(Image.fromarray(resized_im, 'RGB').filter(ImageFilter.SHARPEN))\n",
    "#                         elif aug_type == 4: # Brightness enhancement\n",
    "#                             resized_im = np.array(ImageEnhance.Brightness((Image.fromarray(resized_im, 'RGB'))).enhance(1.5))\n",
    "                    image_array = np.array(img_resized)\n",
    "                    # print(\"image size: \", image_array[:,:,0].shape)\n",
    "                    # plt.figure(figsize=(8, 6))  # Adjust the figure size as needed\n",
    "                    # plt.imshow(Image.fromarray(image_array))\n",
    "                    batch_data[folder,idx,:,:,0] = image_array[:,:,0]/255\n",
    "                    batch_data[folder,idx,:,:,1] = image_array[:,:,1]/255\n",
    "                    batch_data[folder,idx,:,:,2] = image_array[:,:,2]/255\n",
    "\n",
    "                batch_labels[folder, int(t[folder + (batch*batch_size)].strip().split(';')[2])] = 1\n",
    "            # print(batch_labels)\n",
    "            yield batch_data, batch_labels #you yield the batch_data and the batch_labels, remember what does yield do\n",
    "            # count = count + 1\n",
    "                "
   ]
  },
  {
   "cell_type": "markdown",
   "metadata": {},
   "source": [
    "Note here that a video is represented above in the generator as (number of images, height, width, number of channels). Take this into consideration while creating the model architecture."
   ]
  },
  {
   "cell_type": "code",
   "execution_count": 13,
   "metadata": {},
   "outputs": [
    {
     "name": "stdout",
     "output_type": "stream",
     "text": [
      "# training sequences = 663\n",
      "# validation sequences = 100\n",
      "# epochs = 50\n"
     ]
    }
   ],
   "source": [
    "curr_dt_time = datetime.datetime.now()\n",
    "train_path = 'datasets/Project_data/train' #'/notebooks/storage/Final_data/Collated_training/train'\n",
    "val_path =  'datasets/Project_data/val' #'/notebooks/storage/Final_data/Collated_training/val'\n",
    "\n",
    "#multiply number train seq by 2 when using augmentation\n",
    "multiplier = 1\n",
    "if enable_augmentation:\n",
    "    multiplier = 2\n",
    "num_train_sequences = len(train_doc)*multiplier\n",
    "print('# training sequences =', num_train_sequences)\n",
    "\n",
    "num_val_sequences = len(val_doc)\n",
    "print('# validation sequences =', num_val_sequences)\n",
    "\n",
    "num_epochs = 50 # choose the number of epochs\n",
    "print ('# epochs =', num_epochs)"
   ]
  },
  {
   "cell_type": "code",
   "execution_count": 14,
   "metadata": {},
   "outputs": [
    {
     "name": "stdout",
     "output_type": "stream",
     "text": [
      "Source path =  datasets/Project_data/train ; batch size = 1\n",
      "batch, video 0 0\n"
     ]
    }
   ],
   "source": [
    "# testing generative \n",
    "test_gen = generator(train_path, train_doc, 1, is_train = True, augmention = True, debug = True)\n",
    "d = next(test_gen)[0]"
   ]
  },
  {
   "cell_type": "markdown",
   "metadata": {},
   "source": [
    "## Model\n",
    "Here you make the model using different functionalities that Keras provides. Remember to use `Conv3D` and `MaxPooling3D` and not `Conv2D` and `Maxpooling2D` for a 3D convolution model. You would want to use `TimeDistributed` while building a Conv2D + RNN model. Also remember that the last layer is the softmax. Design the network in such a way that the model is able to give good accuracy on the least number of parameters so that it can fit in the memory of the webcam."
   ]
  },
  {
   "cell_type": "code",
   "execution_count": 30,
   "metadata": {},
   "outputs": [],
   "source": [
    "from tensorflow.keras.models import Sequential, Model\n",
    "from tensorflow.keras.layers import Dense, GRU, Flatten, TimeDistributed, Bidirectional, BatchNormalization, Activation, Dropout, GlobalAveragePooling2D, GlobalAveragePooling3D, ConvLSTM2D\n",
    "from tensorflow.keras.layers import Conv2D, Conv3D, MaxPooling2D, MaxPooling3D\n",
    "from tensorflow.keras.callbacks import ModelCheckpoint, ReduceLROnPlateau\n",
    "from tensorflow.keras import optimizers\n",
    "\n",
    "#input shape for the st layer\n",
    "input_shape = (len(seq_idx), dim_x, dim_y, 3)\n",
    "np.random.seed(30)"
   ]
  },
  {
   "cell_type": "markdown",
   "metadata": {},
   "source": [
    "### Experiment - 1 & 2\n",
    "**Conv3D**"
   ]
  },
  {
   "cell_type": "code",
   "execution_count": 31,
   "metadata": {},
   "outputs": [],
   "source": [
    "# model = Sequential()\n",
    "# model.add(Conv3D(32, kernel_size=3, activation='relu', input_shape=input_shape))\n",
    "# model.add(MaxPooling3D(pool_size=2))\n",
    "\n",
    "# model.add(Conv3D(64, kernel_size=3, activation='relu'))\n",
    "# model.add(MaxPooling3D(pool_size=2))\n",
    "\n",
    "# model.add(Flatten())\n",
    "# model.add(Dense(256, activation='relu'))\n",
    "# model.add(Dense(5, activation='softmax'))"
   ]
  },
  {
   "cell_type": "markdown",
   "metadata": {},
   "source": [
    "### Experiment - 3\n",
    "**Conv3D**"
   ]
  },
  {
   "cell_type": "code",
   "execution_count": 32,
   "metadata": {},
   "outputs": [],
   "source": [
    "# model = Sequential()\n",
    "\n",
    "# model.add(Conv3D(32, kernel_size=3, activation='relu', input_shape=input_shape))\n",
    "# model.add(Conv3D(64, kernel_size=3, activation='relu'))\n",
    "# model.add(MaxPooling3D(pool_size=(2, 2, 2)))\n",
    "\n",
    "# model.add(Conv3D(128, kernel_size=3, activation='relu'))\n",
    "# model.add(MaxPooling3D(pool_size=(2, 2, 2)))\n",
    "\n",
    "# model.add(Conv3D(256, kernel_size=(3, 3, 3), activation='relu'))\n",
    "# model.add(MaxPooling3D(pool_size=(3, 2, 2)))\n",
    "\n",
    "# model.add(Conv3D(512, kernel_size=(3, 3, 3), activation='relu'))\n",
    "# model.add(Conv3D(512, kernel_size=(3, 3, 3), activation='relu'))\n",
    "# model.add(MaxPooling3D(pool_size=(2, 2, 2)))\n",
    "\n",
    "# model.add(Flatten())\n",
    "# model.add(Dense(512, activation='relu'))\n",
    "# model.add(Dense(5, activation='softmax'))"
   ]
  },
  {
   "cell_type": "markdown",
   "metadata": {},
   "source": [
    "### Experiment - 4\n",
    "**Conv3D**"
   ]
  },
  {
   "cell_type": "code",
   "execution_count": 33,
   "metadata": {},
   "outputs": [],
   "source": [
    "# model = Sequential()\n",
    "\n",
    "# model.add(Conv3D(32, kernel_size=3, activation='relu', input_shape=input_shape))\n",
    "# model.add(Conv3D(64, kernel_size=3, activation='relu'))\n",
    "# model.add(MaxPooling3D(pool_size=(2, 2, 2)))\n",
    "\n",
    "# model.add(Conv3D(128, kernel_size=3, activation='relu'))\n",
    "# model.add(MaxPooling3D(pool_size=(1, 2, 2)))\n",
    "\n",
    "# model.add(Conv3D(256, kernel_size=(1, 3, 3), activation='relu'))\n",
    "# model.add(MaxPooling3D(pool_size=(1, 2, 2)))\n",
    "\n",
    "# model.add(Conv3D(512, kernel_size=(1, 3, 3), activation='relu'))\n",
    "# model.add(Conv3D(512, kernel_size=(1, 3, 3), activation='relu'))\n",
    "# model.add(MaxPooling3D(pool_size=(1, 2, 2)))\n",
    "\n",
    "# model.add(Flatten())\n",
    "# model.add(Dense(512, activation='relu'))\n",
    "# model.add(Dense(5, activation='softmax'))"
   ]
  },
  {
   "cell_type": "markdown",
   "metadata": {},
   "source": [
    "### Experiment - 5 & 6\n",
    "**Conv3D**"
   ]
  },
  {
   "cell_type": "code",
   "execution_count": 34,
   "metadata": {},
   "outputs": [],
   "source": [
    "# model = Sequential()\n",
    "\n",
    "# model.add(Conv3D(32, kernel_size=3, activation='relu', input_shape=input_shape))\n",
    "# model.add(Conv3D(64, kernel_size=3, activation='relu'))\n",
    "# model.add(MaxPooling3D(pool_size=(2, 2, 2)))\n",
    "# model.add(BatchNormalization())\n",
    "\n",
    "# model.add(Conv3D(128, kernel_size=3, activation='relu'))\n",
    "# model.add(MaxPooling3D(pool_size=(1, 2, 2)))\n",
    "# model.add(BatchNormalization())\n",
    "\n",
    "# model.add(Conv3D(256, kernel_size=(1, 3, 3), activation='relu'))\n",
    "# model.add(MaxPooling3D(pool_size=(1, 2, 2)))\n",
    "# model.add(BatchNormalization())\n",
    "\n",
    "# model.add(Conv3D(512, kernel_size=(1, 3, 3), activation='relu'))\n",
    "# model.add(Conv3D(512, kernel_size=(1, 3, 3), activation='relu'))\n",
    "# model.add(MaxPooling3D(pool_size=(1, 2, 2)))\n",
    "# model.add(BatchNormalization())\n",
    "\n",
    "# model.add(Flatten())\n",
    "# model.add(Dense(512, activation='relu'))\n",
    "# model.add(BatchNormalization())\n",
    "# model.add(Dense(5, activation='softmax'))"
   ]
  },
  {
   "cell_type": "markdown",
   "metadata": {},
   "source": [
    "### Experiment - 7 & 8\n",
    "**Conv3D**"
   ]
  },
  {
   "cell_type": "code",
   "execution_count": 35,
   "metadata": {},
   "outputs": [],
   "source": [
    "# model = Sequential()\n",
    "\n",
    "# model.add(Conv3D(32, kernel_size=3, activation='relu', input_shape=input_shape))\n",
    "# model.add(Conv3D(64, kernel_size=3, activation='relu'))\n",
    "# model.add(MaxPooling3D(pool_size=(2, 2, 2)))\n",
    "# model.add(BatchNormalization())\n",
    "# #model.add(Dropout(0.2))\n",
    "# model.add(Dropout(0.5))\n",
    "\n",
    "# model.add(Conv3D(128, kernel_size=3, activation='relu'))\n",
    "# model.add(MaxPooling3D(pool_size=(1, 2, 2)))\n",
    "# model.add(BatchNormalization())\n",
    "# #model.add(Dropout(0.2))\n",
    "# model.add(Dropout(0.5))\n",
    "\n",
    "# model.add(Conv3D(256, kernel_size=(1, 3, 3), activation='relu'))\n",
    "# model.add(MaxPooling3D(pool_size=(1, 2, 2)))\n",
    "# model.add(BatchNormalization())\n",
    "# #model.add(Dropout(0.2))\n",
    "# model.add(Dropout(0.5))\n",
    "\n",
    "# model.add(Conv3D(512, kernel_size=(1, 3, 3), activation='relu'))\n",
    "# model.add(Conv3D(512, kernel_size=(1, 3, 3), activation='relu'))\n",
    "# model.add(MaxPooling3D(pool_size=(1, 2, 2)))\n",
    "# model.add(BatchNormalization())\n",
    "# #model.add(Dropout(0.2))\n",
    "# model.add(Dropout(0.5))\n",
    "\n",
    "# model.add(Flatten())\n",
    "# model.add(Dense(512, activation='relu'))\n",
    "# model.add(BatchNormalization())\n",
    "# model.add(Dense(5, activation='softmax'))"
   ]
  },
  {
   "cell_type": "markdown",
   "metadata": {},
   "source": [
    "### Experiment - 9\n",
    "**Conv3D**"
   ]
  },
  {
   "cell_type": "code",
   "execution_count": 36,
   "metadata": {},
   "outputs": [],
   "source": [
    "# model = Sequential()\n",
    "\n",
    "# model.add(Conv3D(32, kernel_size=3, activation='relu', input_shape=input_shape))\n",
    "# model.add(Conv3D(64, kernel_size=3, activation='relu'))\n",
    "# model.add(MaxPooling3D(pool_size=(2, 2, 2)))\n",
    "# model.add(BatchNormalization())\n",
    "# model.add(Dropout(0.2))\n",
    "\n",
    "# model.add(Conv3D(128, kernel_size=3, activation='relu'))\n",
    "# model.add(MaxPooling3D(pool_size=(1, 2, 2)))\n",
    "# model.add(BatchNormalization())\n",
    "# model.add(Dropout(0.2))\n",
    "\n",
    "# model.add(Conv3D(256, kernel_size=(1, 3, 3), activation='relu'))\n",
    "# model.add(MaxPooling3D(pool_size=(1, 2, 2)))\n",
    "# model.add(BatchNormalization())\n",
    "# model.add(Dropout(0.2))\n",
    "\n",
    "# model.add(Flatten())\n",
    "# model.add(Dense(512, activation='relu'))\n",
    "# model.add(BatchNormalization())\n",
    "# model.add(Dense(5, activation='softmax'))"
   ]
  },
  {
   "cell_type": "markdown",
   "metadata": {},
   "source": [
    "### Experiment - 10\n",
    "**Conv3D**"
   ]
  },
  {
   "cell_type": "code",
   "execution_count": 37,
   "metadata": {},
   "outputs": [],
   "source": [
    "# loss: 0.1388 - categorical_accuracy: 0.9539 - val_loss: 0.1661 - val_categorical_accuracy: 0.9297\n",
    "# model = Sequential()\n",
    "\n",
    "# model.add(Conv3D(32, kernel_size=3, activation='relu', input_shape=input_shape))\n",
    "# model.add(Conv3D(64, kernel_size=3, activation='relu'))\n",
    "# model.add(MaxPooling3D(pool_size=(2, 2, 2)))\n",
    "# model.add(BatchNormalization())\n",
    "# model.add(Dropout(0.2))\n",
    "\n",
    "# model.add(Conv3D(128, kernel_size=3, activation='relu'))\n",
    "# model.add(MaxPooling3D(pool_size=(1, 2, 2)))\n",
    "# model.add(BatchNormalization())\n",
    "# model.add(Dropout(0.2))\n",
    "\n",
    "# model.add(Conv3D(256, kernel_size=(1, 3, 3), activation='relu'))\n",
    "# model.add(MaxPooling3D(pool_size=(1, 2, 2)))\n",
    "# model.add(BatchNormalization())\n",
    "# model.add(Dropout(0.2))\n",
    "\n",
    "# model.add(GlobalAveragePooling3D())\n",
    "# model.add(Dense(512, activation='relu'))\n",
    "# model.add(BatchNormalization())\n",
    "# model.add(Dense(5, activation='softmax'))"
   ]
  },
  {
   "cell_type": "markdown",
   "metadata": {},
   "source": [
    "### Experiment - 11\n",
    "**TimeDistributed Conv2D + GRU**"
   ]
  },
  {
   "cell_type": "code",
   "execution_count": 38,
   "metadata": {},
   "outputs": [],
   "source": [
    "# model = Sequential()\n",
    "# model.add(TimeDistributed(\n",
    "#     Conv2D(32, (3,3), activation='relu'), input_shape=input_shape)\n",
    "# )\n",
    "# model.add(TimeDistributed(\n",
    "#     MaxPooling2D((2,2)))\n",
    "# )\n",
    "# model.add(BatchNormalization())\n",
    "\n",
    "# model.add(TimeDistributed(\n",
    "#     Conv2D(64, (3,3), activation='relu'))\n",
    "# )\n",
    "# model.add(TimeDistributed(\n",
    "#     MaxPooling2D((2,2)))\n",
    "# )\n",
    "# model.add(BatchNormalization())\n",
    "\n",
    "# model.add(TimeDistributed(GlobalAveragePooling2D()))\n",
    "# model.add(TimeDistributed(Dense(64, activation='relu')))\n",
    "# model.add(BatchNormalization())\n",
    "\n",
    "# model.add(GRU(128))\n",
    "# model.add(BatchNormalization())\n",
    "# model.add(Dense(5, activation='softmax'))"
   ]
  },
  {
   "cell_type": "markdown",
   "metadata": {},
   "source": [
    "### Experiment - 12\n",
    "**TimeDistributed Conv2D + GRU**"
   ]
  },
  {
   "cell_type": "code",
   "execution_count": 39,
   "metadata": {},
   "outputs": [],
   "source": [
    "# model = Sequential()\n",
    "# model.add(TimeDistributed(\n",
    "#     Conv2D(32, (3,3), activation='relu'), input_shape=input_shape)\n",
    "# )\n",
    "# model.add(TimeDistributed(\n",
    "#     MaxPooling2D((2,2)))\n",
    "# )\n",
    "# model.add(BatchNormalization())\n",
    "# model.add(Dropout(0.2))\n",
    "\n",
    "# model.add(TimeDistributed(\n",
    "#     Conv2D(64, (3,3), activation='relu'))\n",
    "# )\n",
    "# model.add(TimeDistributed(\n",
    "#     MaxPooling2D((2,2)))\n",
    "# )\n",
    "# model.add(BatchNormalization())\n",
    "# model.add(Dropout(0.2))\n",
    "\n",
    "# model.add(TimeDistributed(GlobalAveragePooling2D()))\n",
    "# model.add(TimeDistributed(Dense(64, activation='relu')))\n",
    "# model.add(BatchNormalization())\n",
    "# model.add(Dropout(0.2))\n",
    "\n",
    "# model.add(GRU(128))\n",
    "# model.add(BatchNormalization())\n",
    "# model.add(Dense(5, activation='softmax'))"
   ]
  },
  {
   "cell_type": "markdown",
   "metadata": {},
   "source": [
    "### Experiment - 13\n",
    "**TimeDistributed Conv2D + Dense**"
   ]
  },
  {
   "cell_type": "code",
   "execution_count": 40,
   "metadata": {},
   "outputs": [],
   "source": [
    "# model = Sequential()\n",
    "# model.add(TimeDistributed(\n",
    "#     Conv2D(32, (3,3), activation='relu'), input_shape=input_shape)\n",
    "# )\n",
    "# model.add(TimeDistributed(\n",
    "#     MaxPooling2D((2,2)))\n",
    "# )\n",
    "# model.add(BatchNormalization())\n",
    "\n",
    "# model.add(TimeDistributed(\n",
    "#     Conv2D(64, (3,3), activation='relu'))\n",
    "# )\n",
    "# model.add(TimeDistributed(\n",
    "#     MaxPooling2D((2,2)))\n",
    "# )\n",
    "# model.add(BatchNormalization())\n",
    "\n",
    "# model.add(TimeDistributed(\n",
    "#     Conv2D(128, (3,3), activation='relu'))\n",
    "# )\n",
    "# model.add(TimeDistributed(\n",
    "#     MaxPooling2D((2,2)))\n",
    "# )\n",
    "# model.add(BatchNormalization())\n",
    "\n",
    "# model.add(GlobalAveragePooling3D())\n",
    "# model.add(Dense(256, activation='relu'))\n",
    "# model.add(BatchNormalization())\n",
    "# model.add(Dense(5, activation='softmax'))"
   ]
  },
  {
   "cell_type": "markdown",
   "metadata": {},
   "source": [
    "### Experiment - 14\n",
    "**TimeDistributed + ConvLSTM2D**"
   ]
  },
  {
   "cell_type": "code",
   "execution_count": 41,
   "metadata": {},
   "outputs": [],
   "source": [
    "# model = Sequential()\n",
    "# model.add(TimeDistributed(\n",
    "#     Conv2D(8, (3,3), activation='relu'), input_shape=input_shape)\n",
    "# )\n",
    "# model.add(BatchNormalization())\n",
    "# model.add(TimeDistributed(\n",
    "#     Conv2D(16, (3,3), activation='relu'))\n",
    "# )\n",
    "# model.add(BatchNormalization())\n",
    "# model.add(\n",
    "#     ConvLSTM2D(8, kernel_size = 3, return_sequences=False)\n",
    "# )\n",
    "# model.add(BatchNormalization())\n",
    "# model.add(TimeDistributed(\n",
    "#     Dense(64, activation='relu'))\n",
    "# )\n",
    "# model.add(BatchNormalization())\n",
    "# model.add(GlobalAveragePooling2D())\n",
    "# model.add(Dense(64, activation='relu'))\n",
    "# model.add(Dense(5, activation='softmax'))"
   ]
  },
  {
   "cell_type": "markdown",
   "metadata": {},
   "source": [
    "# Final Model"
   ]
  },
  {
   "cell_type": "code",
   "execution_count": 54,
   "metadata": {},
   "outputs": [],
   "source": [
    "input_shape = (30,120,120,3)\n",
    "model = Sequential()\n",
    "model.add(TimeDistributed(\n",
    "    Conv2D(8, (3,3), activation='relu'), input_shape=input_shape)\n",
    ")\n",
    "model.add(BatchNormalization())\n",
    "model.add(TimeDistributed(\n",
    "    Conv2D(16, (3,3), activation='relu'))\n",
    ")\n",
    "model.add(BatchNormalization())\n",
    "model.add(\n",
    "    ConvLSTM2D(8, kernel_size = 3, return_sequences=False)\n",
    ")\n",
    "model.add(BatchNormalization())\n",
    "model.add(TimeDistributed(\n",
    "    Dense(64, activation='relu'))\n",
    ")\n",
    "model.add(BatchNormalization())\n",
    "model.add(GlobalAveragePooling2D())\n",
    "model.add(Dense(64, activation='relu'))\n",
    "model.add(Dense(5, activation='softmax'))"
   ]
  },
  {
   "cell_type": "markdown",
   "metadata": {},
   "source": [
    "Now that you have written the model, the next step is to `compile` the model. When you print the `summary` of the model, you'll see the total number of parameters you have to train."
   ]
  },
  {
   "cell_type": "code",
   "execution_count": 55,
   "metadata": {},
   "outputs": [
    {
     "name": "stdout",
     "output_type": "stream",
     "text": [
      "Model: \"sequential_2\"\n",
      "_________________________________________________________________\n",
      " Layer (type)                Output Shape              Param #   \n",
      "=================================================================\n",
      " time_distributed_6 (TimeDis  (None, 30, 118, 118, 8)  224       \n",
      " tributed)                                                       \n",
      "                                                                 \n",
      " batch_normalization_8 (Batc  (None, 30, 118, 118, 8)  32        \n",
      " hNormalization)                                                 \n",
      "                                                                 \n",
      " time_distributed_7 (TimeDis  (None, 30, 116, 116, 16)  1168     \n",
      " tributed)                                                       \n",
      "                                                                 \n",
      " batch_normalization_9 (Batc  (None, 30, 116, 116, 16)  64       \n",
      " hNormalization)                                                 \n",
      "                                                                 \n",
      " conv_lstm2d_2 (ConvLSTM2D)  (None, 114, 114, 8)       6944      \n",
      "                                                                 \n",
      " batch_normalization_10 (Bat  (None, 114, 114, 8)      32        \n",
      " chNormalization)                                                \n",
      "                                                                 \n",
      " time_distributed_8 (TimeDis  (None, 114, 114, 64)     576       \n",
      " tributed)                                                       \n",
      "                                                                 \n",
      " batch_normalization_11 (Bat  (None, 114, 114, 64)     256       \n",
      " chNormalization)                                                \n",
      "                                                                 \n",
      " global_average_pooling2d_2   (None, 64)               0         \n",
      " (GlobalAveragePooling2D)                                        \n",
      "                                                                 \n",
      " dense_7 (Dense)             (None, 64)                4160      \n",
      "                                                                 \n",
      " dense_8 (Dense)             (None, 5)                 325       \n",
      "                                                                 \n",
      "=================================================================\n",
      "Total params: 13,781\n",
      "Trainable params: 13,589\n",
      "Non-trainable params: 192\n",
      "_________________________________________________________________\n",
      "None\n"
     ]
    }
   ],
   "source": [
    "optimiser = optimizers.Adam() #write your optimizer\n",
    "model.compile(optimizer=optimiser, loss='categorical_crossentropy', metrics=['categorical_accuracy'])\n",
    "print(model.summary())"
   ]
  },
  {
   "cell_type": "markdown",
   "metadata": {},
   "source": [
    "Let us create the `train_generator` and the `val_generator` which will be used in `.fit_generator`."
   ]
  },
  {
   "cell_type": "code",
   "execution_count": 56,
   "metadata": {},
   "outputs": [],
   "source": [
    "train_generator = generator(train_path, train_doc, batch_size, is_train = True, augmention = enable_augmentation)\n",
    "val_generator = generator(val_path, val_doc, batch_size)"
   ]
  },
  {
   "cell_type": "code",
   "execution_count": 57,
   "metadata": {},
   "outputs": [
    {
     "name": "stdout",
     "output_type": "stream",
     "text": [
      "WARNING:tensorflow:`period` argument is deprecated. Please use `save_freq` to specify the frequency in number of batches seen.\n"
     ]
    }
   ],
   "source": [
    "model_name = 'model_init_exp_16' + '_' + str(curr_dt_time).replace(' ','').replace(':','_') + '/'\n",
    "\n",
    "if not os.path.exists(model_name):\n",
    "    os.mkdir(model_name)\n",
    "\n",
    "filepath = model_name + 'model-{epoch:05d}-{loss:.5f}-{categorical_accuracy:.5f}-{val_loss:.5f}-{val_categorical_accuracy:.5f}.h5'\n",
    "\n",
    "checkpoint = ModelCheckpoint(filepath, monitor='val_loss', verbose=1, save_best_only=False, save_weights_only=False, mode='auto', period=1)\n",
    "\n",
    "LR = ReduceLROnPlateau(monitor='val_loss', factor=0.2, patience=5, min_lr=0.001, verbose=1) # write the REducelronplateau code here\n",
    "\n",
    "callbacks_list = [checkpoint, LR]"
   ]
  },
  {
   "cell_type": "markdown",
   "metadata": {},
   "source": [
    "The `steps_per_epoch` and `validation_steps` are used by `fit_generator` to decide the number of next() calls it need to make."
   ]
  },
  {
   "cell_type": "code",
   "execution_count": 58,
   "metadata": {},
   "outputs": [],
   "source": [
    "if (num_train_sequences%batch_size) == 0:\n",
    "    steps_per_epoch = int(num_train_sequences/batch_size)\n",
    "else:\n",
    "    steps_per_epoch = (num_train_sequences//batch_size) + 1\n",
    "\n",
    "if (num_val_sequences%batch_size) == 0:\n",
    "    validation_steps = int(num_val_sequences/batch_size)\n",
    "else:\n",
    "    validation_steps = (num_val_sequences//batch_size) + 1"
   ]
  },
  {
   "cell_type": "markdown",
   "metadata": {},
   "source": [
    "Let us now fit the model. This will start training the model and with the help of the checkpoints, you'll be able to save the model at the end of each epoch."
   ]
  },
  {
   "cell_type": "code",
   "execution_count": 59,
   "metadata": {},
   "outputs": [
    {
     "name": "stdout",
     "output_type": "stream",
     "text": [
      "Source path =  datasets/Project_data/train ; batch size = 32\n",
      "Epoch 1/50\n",
      "21/21 [==============================] - ETA: 0s - loss: 1.4911 - categorical_accuracy: 0.3333Source path =  datasets/Project_data/val ; batch size = 32\n",
      "\n",
      "Epoch 00001: saving model to model_init_exp_16_2024-07-3115_54_19.220716/model-00001-1.49106-0.33333-1.25565-0.14062.h5\n",
      "21/21 [==============================] - 73s 3s/step - loss: 1.4911 - categorical_accuracy: 0.3333 - val_loss: 1.2556 - val_categorical_accuracy: 0.1406 - lr: 0.0010\n",
      "Epoch 2/50\n",
      "21/21 [==============================] - ETA: 0s - loss: 1.3103 - categorical_accuracy: 0.4658\n",
      "Epoch 00002: saving model to model_init_exp_16_2024-07-3115_54_19.220716/model-00002-1.31029-0.46577-0.00000-0.00000.h5\n",
      "21/21 [==============================] - 60s 3s/step - loss: 1.3103 - categorical_accuracy: 0.4658 - val_loss: 0.0000e+00 - val_categorical_accuracy: 0.0000e+00 - lr: 0.0010\n",
      "Epoch 3/50\n",
      "21/21 [==============================] - ETA: 0s - loss: 1.1683 - categorical_accuracy: 0.5164\n",
      "Epoch 00003: saving model to model_init_exp_16_2024-07-3115_54_19.220716/model-00003-1.16834-0.51637-0.00000-0.00000.h5\n",
      "21/21 [==============================] - 62s 3s/step - loss: 1.1683 - categorical_accuracy: 0.5164 - val_loss: 0.0000e+00 - val_categorical_accuracy: 0.0000e+00 - lr: 0.0010\n",
      "Epoch 4/50\n",
      "21/21 [==============================] - ETA: 0s - loss: 1.1089 - categorical_accuracy: 0.5491\n",
      "Epoch 00004: saving model to model_init_exp_16_2024-07-3115_54_19.220716/model-00004-1.10891-0.54911-0.00000-0.00000.h5\n",
      "21/21 [==============================] - 62s 3s/step - loss: 1.1089 - categorical_accuracy: 0.5491 - val_loss: 0.0000e+00 - val_categorical_accuracy: 0.0000e+00 - lr: 0.0010\n",
      "Epoch 5/50\n",
      "21/21 [==============================] - ETA: 0s - loss: 1.0255 - categorical_accuracy: 0.5670\n",
      "Epoch 00005: saving model to model_init_exp_16_2024-07-3115_54_19.220716/model-00005-1.02546-0.56696-1.47531-0.13281.h5\n",
      "21/21 [==============================] - 78s 4s/step - loss: 1.0255 - categorical_accuracy: 0.5670 - val_loss: 1.4753 - val_categorical_accuracy: 0.1328 - lr: 0.0010\n",
      "Epoch 6/50\n",
      "21/21 [==============================] - ETA: 0s - loss: 0.9436 - categorical_accuracy: 0.5997\n",
      "Epoch 00006: saving model to model_init_exp_16_2024-07-3115_54_19.220716/model-00006-0.94359-0.59970-0.00000-0.00000.h5\n",
      "21/21 [==============================] - 63s 3s/step - loss: 0.9436 - categorical_accuracy: 0.5997 - val_loss: 0.0000e+00 - val_categorical_accuracy: 0.0000e+00 - lr: 0.0010\n",
      "Epoch 7/50\n",
      "21/21 [==============================] - ETA: 0s - loss: 0.8690 - categorical_accuracy: 0.6473\n",
      "Epoch 00007: saving model to model_init_exp_16_2024-07-3115_54_19.220716/model-00007-0.86896-0.64732-0.00000-0.00000.h5\n",
      "21/21 [==============================] - 62s 3s/step - loss: 0.8690 - categorical_accuracy: 0.6473 - val_loss: 0.0000e+00 - val_categorical_accuracy: 0.0000e+00 - lr: 0.0010\n",
      "Epoch 8/50\n",
      "21/21 [==============================] - ETA: 0s - loss: 0.8293 - categorical_accuracy: 0.6562\n",
      "Epoch 00008: saving model to model_init_exp_16_2024-07-3115_54_19.220716/model-00008-0.82931-0.65625-0.00000-0.00000.h5\n",
      "21/21 [==============================] - 61s 3s/step - loss: 0.8293 - categorical_accuracy: 0.6562 - val_loss: 0.0000e+00 - val_categorical_accuracy: 0.0000e+00 - lr: 0.0010\n",
      "Epoch 9/50\n",
      "21/21 [==============================] - ETA: 0s - loss: 0.7840 - categorical_accuracy: 0.6771\n",
      "Epoch 00009: saving model to model_init_exp_16_2024-07-3115_54_19.220716/model-00009-0.78403-0.67708-1.26928-0.08594.h5\n",
      "21/21 [==============================] - 71s 3s/step - loss: 0.7840 - categorical_accuracy: 0.6771 - val_loss: 1.2693 - val_categorical_accuracy: 0.0859 - lr: 0.0010\n",
      "Epoch 10/50\n",
      "21/21 [==============================] - ETA: 0s - loss: 0.7832 - categorical_accuracy: 0.6890\n",
      "Epoch 00010: saving model to model_init_exp_16_2024-07-3115_54_19.220716/model-00010-0.78316-0.68899-0.05545-0.00000.h5\n",
      "21/21 [==============================] - 60s 3s/step - loss: 0.7832 - categorical_accuracy: 0.6890 - val_loss: 0.0555 - val_categorical_accuracy: 0.0000e+00 - lr: 0.0010\n",
      "Epoch 11/50\n",
      "21/21 [==============================] - ETA: 0s - loss: 0.8386 - categorical_accuracy: 0.6458\n",
      "Epoch 00011: saving model to model_init_exp_16_2024-07-3115_54_19.220716/model-00011-0.83859-0.64583-0.00000-0.00000.h5\n",
      "21/21 [==============================] - 62s 3s/step - loss: 0.8386 - categorical_accuracy: 0.6458 - val_loss: 0.0000e+00 - val_categorical_accuracy: 0.0000e+00 - lr: 0.0010\n",
      "Epoch 12/50\n",
      "21/21 [==============================] - ETA: 0s - loss: 0.7385 - categorical_accuracy: 0.7068\n",
      "Epoch 00012: saving model to model_init_exp_16_2024-07-3115_54_19.220716/model-00012-0.73852-0.70685-0.00000-0.00000.h5\n",
      "21/21 [==============================] - 62s 3s/step - loss: 0.7385 - categorical_accuracy: 0.7068 - val_loss: 0.0000e+00 - val_categorical_accuracy: 0.0000e+00 - lr: 0.0010\n",
      "Epoch 13/50\n",
      "21/21 [==============================] - ETA: 0s - loss: 0.7022 - categorical_accuracy: 0.7202\n",
      "Epoch 00013: saving model to model_init_exp_16_2024-07-3115_54_19.220716/model-00013-0.70217-0.72024-0.37204-0.10156.h5\n",
      "21/21 [==============================] - 68s 3s/step - loss: 0.7022 - categorical_accuracy: 0.7202 - val_loss: 0.3720 - val_categorical_accuracy: 0.1016 - lr: 0.0010\n",
      "Epoch 14/50\n",
      "21/21 [==============================] - ETA: 0s - loss: 0.6889 - categorical_accuracy: 0.7143\n",
      "Epoch 00014: saving model to model_init_exp_16_2024-07-3115_54_19.220716/model-00014-0.68894-0.71429-0.49163-0.09375.h5\n",
      "21/21 [==============================] - 65s 3s/step - loss: 0.6889 - categorical_accuracy: 0.7143 - val_loss: 0.4916 - val_categorical_accuracy: 0.0938 - lr: 0.0010\n",
      "Epoch 15/50\n",
      "21/21 [==============================] - ETA: 0s - loss: 0.6333 - categorical_accuracy: 0.7396\n",
      "Epoch 00015: saving model to model_init_exp_16_2024-07-3115_54_19.220716/model-00015-0.63327-0.73958-0.00000-0.00000.h5\n",
      "21/21 [==============================] - 60s 3s/step - loss: 0.6333 - categorical_accuracy: 0.7396 - val_loss: 0.0000e+00 - val_categorical_accuracy: 0.0000e+00 - lr: 0.0010\n",
      "Epoch 16/50\n",
      "21/21 [==============================] - ETA: 0s - loss: 0.6371 - categorical_accuracy: 0.7351\n",
      "Epoch 00016: saving model to model_init_exp_16_2024-07-3115_54_19.220716/model-00016-0.63711-0.73512-0.00000-0.00000.h5\n",
      "21/21 [==============================] - 62s 3s/step - loss: 0.6371 - categorical_accuracy: 0.7351 - val_loss: 0.0000e+00 - val_categorical_accuracy: 0.0000e+00 - lr: 0.0010\n",
      "Epoch 17/50\n",
      "21/21 [==============================] - ETA: 0s - loss: 0.6086 - categorical_accuracy: 0.7589\n",
      "Epoch 00017: saving model to model_init_exp_16_2024-07-3115_54_19.220716/model-00017-0.60855-0.75893-0.00000-0.00000.h5\n",
      "21/21 [==============================] - 65s 3s/step - loss: 0.6086 - categorical_accuracy: 0.7589 - val_loss: 0.0000e+00 - val_categorical_accuracy: 0.0000e+00 - lr: 0.0010\n",
      "Epoch 18/50\n",
      "21/21 [==============================] - ETA: 0s - loss: 0.6274 - categorical_accuracy: 0.7515\n",
      "Epoch 00018: saving model to model_init_exp_16_2024-07-3115_54_19.220716/model-00018-0.62742-0.75149-0.88578-0.17969.h5\n",
      "21/21 [==============================] - 67s 3s/step - loss: 0.6274 - categorical_accuracy: 0.7515 - val_loss: 0.8858 - val_categorical_accuracy: 0.1797 - lr: 0.0010\n",
      "Epoch 19/50\n",
      "21/21 [==============================] - ETA: 0s - loss: 0.5993 - categorical_accuracy: 0.7530\n",
      "Epoch 00019: saving model to model_init_exp_16_2024-07-3115_54_19.220716/model-00019-0.59931-0.75298-0.00000-0.00000.h5\n",
      "21/21 [==============================] - 60s 3s/step - loss: 0.5993 - categorical_accuracy: 0.7530 - val_loss: 0.0000e+00 - val_categorical_accuracy: 0.0000e+00 - lr: 0.0010\n",
      "Epoch 20/50\n",
      "21/21 [==============================] - ETA: 0s - loss: 0.6321 - categorical_accuracy: 0.7307\n",
      "Epoch 00020: saving model to model_init_exp_16_2024-07-3115_54_19.220716/model-00020-0.63215-0.73065-0.00000-0.00000.h5\n",
      "21/21 [==============================] - 62s 3s/step - loss: 0.6321 - categorical_accuracy: 0.7307 - val_loss: 0.0000e+00 - val_categorical_accuracy: 0.0000e+00 - lr: 0.0010\n",
      "Epoch 21/50\n",
      "21/21 [==============================] - ETA: 0s - loss: 0.5774 - categorical_accuracy: 0.7634\n",
      "Epoch 00021: saving model to model_init_exp_16_2024-07-3115_54_19.220716/model-00021-0.57738-0.76339-0.00000-1.00000.h5\n",
      "21/21 [==============================] - 62s 3s/step - loss: 0.5774 - categorical_accuracy: 0.7634 - val_loss: 0.0000e+00 - val_categorical_accuracy: 1.0000 - lr: 0.0010\n",
      "Epoch 22/50\n",
      "21/21 [==============================] - ETA: 0s - loss: 0.5791 - categorical_accuracy: 0.7604\n",
      "Epoch 00022: saving model to model_init_exp_16_2024-07-3115_54_19.220716/model-00022-0.57909-0.76042-0.83911-0.65625.h5\n",
      "21/21 [==============================] - 72s 3s/step - loss: 0.5791 - categorical_accuracy: 0.7604 - val_loss: 0.8391 - val_categorical_accuracy: 0.6562 - lr: 0.0010\n",
      "Epoch 23/50\n",
      "21/21 [==============================] - ETA: 0s - loss: 0.5184 - categorical_accuracy: 0.8006\n",
      "Epoch 00023: saving model to model_init_exp_16_2024-07-3115_54_19.220716/model-00023-0.51837-0.80060-0.00000-1.00000.h5\n",
      "21/21 [==============================] - 61s 3s/step - loss: 0.5184 - categorical_accuracy: 0.8006 - val_loss: 0.0000e+00 - val_categorical_accuracy: 1.0000 - lr: 0.0010\n",
      "Epoch 24/50\n",
      "21/21 [==============================] - ETA: 0s - loss: 0.5156 - categorical_accuracy: 0.7887\n",
      "Epoch 00024: saving model to model_init_exp_16_2024-07-3115_54_19.220716/model-00024-0.51556-0.78869-0.00000-1.00000.h5\n",
      "21/21 [==============================] - 62s 3s/step - loss: 0.5156 - categorical_accuracy: 0.7887 - val_loss: 0.0000e+00 - val_categorical_accuracy: 1.0000 - lr: 0.0010\n",
      "Epoch 25/50\n",
      "21/21 [==============================] - ETA: 0s - loss: 0.5274 - categorical_accuracy: 0.7887\n",
      "Epoch 00025: saving model to model_init_exp_16_2024-07-3115_54_19.220716/model-00025-0.52739-0.78869-0.00000-1.00000.h5\n",
      "21/21 [==============================] - 63s 3s/step - loss: 0.5274 - categorical_accuracy: 0.7887 - val_loss: 0.0000e+00 - val_categorical_accuracy: 1.0000 - lr: 0.0010\n",
      "Epoch 26/50\n",
      "21/21 [==============================] - ETA: 0s - loss: 0.5049 - categorical_accuracy: 0.7991\n",
      "Epoch 00026: saving model to model_init_exp_16_2024-07-3115_54_19.220716/model-00026-0.50490-0.79911-0.95804-0.60938.h5\n",
      "21/21 [==============================] - 72s 3s/step - loss: 0.5049 - categorical_accuracy: 0.7991 - val_loss: 0.9580 - val_categorical_accuracy: 0.6094 - lr: 0.0010\n",
      "Epoch 27/50\n",
      "21/21 [==============================] - ETA: 0s - loss: 0.4761 - categorical_accuracy: 0.8214\n",
      "Epoch 00027: saving model to model_init_exp_16_2024-07-3115_54_19.220716/model-00027-0.47609-0.82143-0.00000-1.00000.h5\n",
      "21/21 [==============================] - 60s 3s/step - loss: 0.4761 - categorical_accuracy: 0.8214 - val_loss: 0.0000e+00 - val_categorical_accuracy: 1.0000 - lr: 0.0010\n",
      "Epoch 28/50\n",
      "21/21 [==============================] - ETA: 0s - loss: 0.5037 - categorical_accuracy: 0.7783\n",
      "Epoch 00028: saving model to model_init_exp_16_2024-07-3115_54_19.220716/model-00028-0.50370-0.77827-0.00000-1.00000.h5\n",
      "21/21 [==============================] - 62s 3s/step - loss: 0.5037 - categorical_accuracy: 0.7783 - val_loss: 0.0000e+00 - val_categorical_accuracy: 1.0000 - lr: 0.0010\n",
      "Epoch 29/50\n",
      "21/21 [==============================] - ETA: 0s - loss: 0.5143 - categorical_accuracy: 0.7991\n",
      "Epoch 00029: saving model to model_init_exp_16_2024-07-3115_54_19.220716/model-00029-0.51432-0.79911-0.00000-1.00000.h5\n",
      "21/21 [==============================] - 62s 3s/step - loss: 0.5143 - categorical_accuracy: 0.7991 - val_loss: 0.0000e+00 - val_categorical_accuracy: 1.0000 - lr: 0.0010\n",
      "Epoch 30/50\n",
      "21/21 [==============================] - ETA: 0s - loss: 0.4794 - categorical_accuracy: 0.7946\n",
      "Epoch 00030: saving model to model_init_exp_16_2024-07-3115_54_19.220716/model-00030-0.47939-0.79464-0.34280-0.85938.h5\n",
      "21/21 [==============================] - 71s 3s/step - loss: 0.4794 - categorical_accuracy: 0.7946 - val_loss: 0.3428 - val_categorical_accuracy: 0.8594 - lr: 0.0010\n",
      "Epoch 31/50\n",
      "21/21 [==============================] - ETA: 0s - loss: 0.4787 - categorical_accuracy: 0.8155\n",
      "Epoch 00031: saving model to model_init_exp_16_2024-07-3115_54_19.220716/model-00031-0.47871-0.81548-0.07324-0.97656.h5\n",
      "21/21 [==============================] - 60s 3s/step - loss: 0.4787 - categorical_accuracy: 0.8155 - val_loss: 0.0732 - val_categorical_accuracy: 0.9766 - lr: 0.0010\n",
      "Epoch 32/50\n",
      "21/21 [==============================] - ETA: 0s - loss: 0.4421 - categorical_accuracy: 0.8065\n",
      "Epoch 00032: saving model to model_init_exp_16_2024-07-3115_54_19.220716/model-00032-0.44211-0.80655-0.00000-1.00000.h5\n",
      "21/21 [==============================] - 60s 3s/step - loss: 0.4421 - categorical_accuracy: 0.8065 - val_loss: 0.0000e+00 - val_categorical_accuracy: 1.0000 - lr: 0.0010\n",
      "Epoch 33/50\n",
      "21/21 [==============================] - ETA: 0s - loss: 0.4700 - categorical_accuracy: 0.8095\n",
      "Epoch 00033: saving model to model_init_exp_16_2024-07-3115_54_19.220716/model-00033-0.46998-0.80952-0.00000-1.00000.h5\n",
      "21/21 [==============================] - 60s 3s/step - loss: 0.4700 - categorical_accuracy: 0.8095 - val_loss: 0.0000e+00 - val_categorical_accuracy: 1.0000 - lr: 0.0010\n",
      "Epoch 34/50\n",
      "21/21 [==============================] - ETA: 0s - loss: 0.4656 - categorical_accuracy: 0.8095\n",
      "Epoch 00034: saving model to model_init_exp_16_2024-07-3115_54_19.220716/model-00034-0.46565-0.80952-0.21273-0.91406.h5\n",
      "21/21 [==============================] - 65s 3s/step - loss: 0.4656 - categorical_accuracy: 0.8095 - val_loss: 0.2127 - val_categorical_accuracy: 0.9141 - lr: 0.0010\n",
      "Epoch 35/50\n",
      "21/21 [==============================] - ETA: 0s - loss: 0.4623 - categorical_accuracy: 0.8318\n",
      "Epoch 00035: saving model to model_init_exp_16_2024-07-3115_54_19.220716/model-00035-0.46229-0.83185-0.25414-0.92188.h5\n",
      "21/21 [==============================] - 63s 3s/step - loss: 0.4623 - categorical_accuracy: 0.8318 - val_loss: 0.2541 - val_categorical_accuracy: 0.9219 - lr: 0.0010\n",
      "Epoch 36/50\n",
      "21/21 [==============================] - ETA: 0s - loss: 0.4754 - categorical_accuracy: 0.7842\n",
      "Epoch 00036: saving model to model_init_exp_16_2024-07-3115_54_19.220716/model-00036-0.47545-0.78423-0.00000-1.00000.h5\n",
      "21/21 [==============================] - 59s 3s/step - loss: 0.4754 - categorical_accuracy: 0.7842 - val_loss: 0.0000e+00 - val_categorical_accuracy: 1.0000 - lr: 0.0010\n",
      "Epoch 37/50\n",
      "21/21 [==============================] - ETA: 0s - loss: 0.4080 - categorical_accuracy: 0.8408\n",
      "Epoch 00037: saving model to model_init_exp_16_2024-07-3115_54_19.220716/model-00037-0.40802-0.84077-0.00000-1.00000.h5\n",
      "21/21 [==============================] - 61s 3s/step - loss: 0.4080 - categorical_accuracy: 0.8408 - val_loss: 0.0000e+00 - val_categorical_accuracy: 1.0000 - lr: 0.0010\n",
      "Epoch 38/50\n",
      "21/21 [==============================] - ETA: 0s - loss: 0.4680 - categorical_accuracy: 0.7887\n",
      "Epoch 00038: saving model to model_init_exp_16_2024-07-3115_54_19.220716/model-00038-0.46797-0.78869-0.00000-1.00000.h5\n",
      "21/21 [==============================] - 64s 3s/step - loss: 0.4680 - categorical_accuracy: 0.7887 - val_loss: 0.0000e+00 - val_categorical_accuracy: 1.0000 - lr: 0.0010\n",
      "Epoch 39/50\n",
      "21/21 [==============================] - ETA: 0s - loss: 0.4476 - categorical_accuracy: 0.8110\n",
      "Epoch 00039: saving model to model_init_exp_16_2024-07-3115_54_19.220716/model-00039-0.44758-0.81101-0.45656-0.80469.h5\n",
      "21/21 [==============================] - 65s 3s/step - loss: 0.4476 - categorical_accuracy: 0.8110 - val_loss: 0.4566 - val_categorical_accuracy: 0.8047 - lr: 0.0010\n",
      "Epoch 40/50\n",
      "21/21 [==============================] - ETA: 0s - loss: 0.5155 - categorical_accuracy: 0.7961\n",
      "Epoch 00040: saving model to model_init_exp_16_2024-07-3115_54_19.220716/model-00040-0.51548-0.79613-0.00000-1.00000.h5\n",
      "21/21 [==============================] - 60s 3s/step - loss: 0.5155 - categorical_accuracy: 0.7961 - val_loss: 0.0000e+00 - val_categorical_accuracy: 1.0000 - lr: 0.0010\n",
      "Epoch 41/50\n",
      "21/21 [==============================] - ETA: 0s - loss: 0.5029 - categorical_accuracy: 0.7827\n",
      "Epoch 00041: saving model to model_init_exp_16_2024-07-3115_54_19.220716/model-00041-0.50286-0.78274-0.00000-1.00000.h5\n",
      "21/21 [==============================] - 61s 3s/step - loss: 0.5029 - categorical_accuracy: 0.7827 - val_loss: 0.0000e+00 - val_categorical_accuracy: 1.0000 - lr: 0.0010\n",
      "Epoch 42/50\n",
      "21/21 [==============================] - ETA: 0s - loss: 0.4801 - categorical_accuracy: 0.7827\n",
      "Epoch 00042: saving model to model_init_exp_16_2024-07-3115_54_19.220716/model-00042-0.48014-0.78274-0.00000-1.00000.h5\n",
      "21/21 [==============================] - 61s 3s/step - loss: 0.4801 - categorical_accuracy: 0.7827 - val_loss: 0.0000e+00 - val_categorical_accuracy: 1.0000 - lr: 0.0010\n",
      "Epoch 43/50\n",
      "21/21 [==============================] - ETA: 0s - loss: 0.4392 - categorical_accuracy: 0.8318\n",
      "Epoch 00043: saving model to model_init_exp_16_2024-07-3115_54_19.220716/model-00043-0.43919-0.83185-0.85128-0.72656.h5\n",
      "21/21 [==============================] - 71s 3s/step - loss: 0.4392 - categorical_accuracy: 0.8318 - val_loss: 0.8513 - val_categorical_accuracy: 0.7266 - lr: 0.0010\n",
      "Epoch 44/50\n",
      "21/21 [==============================] - ETA: 0s - loss: 0.4381 - categorical_accuracy: 0.8170\n",
      "Epoch 00044: saving model to model_init_exp_16_2024-07-3115_54_19.220716/model-00044-0.43808-0.81696-0.00000-1.00000.h5\n",
      "21/21 [==============================] - 60s 3s/step - loss: 0.4381 - categorical_accuracy: 0.8170 - val_loss: 0.0000e+00 - val_categorical_accuracy: 1.0000 - lr: 0.0010\n",
      "Epoch 45/50\n",
      "21/21 [==============================] - ETA: 0s - loss: 0.4278 - categorical_accuracy: 0.8155\n",
      "Epoch 00045: saving model to model_init_exp_16_2024-07-3115_54_19.220716/model-00045-0.42784-0.81548-0.00000-1.00000.h5\n",
      "21/21 [==============================] - 62s 3s/step - loss: 0.4278 - categorical_accuracy: 0.8155 - val_loss: 0.0000e+00 - val_categorical_accuracy: 1.0000 - lr: 0.0010\n",
      "Epoch 46/50\n",
      "21/21 [==============================] - ETA: 0s - loss: 0.4223 - categorical_accuracy: 0.8051\n",
      "Epoch 00046: saving model to model_init_exp_16_2024-07-3115_54_19.220716/model-00046-0.42226-0.80506-0.00000-1.00000.h5\n",
      "21/21 [==============================] - 62s 3s/step - loss: 0.4223 - categorical_accuracy: 0.8051 - val_loss: 0.0000e+00 - val_categorical_accuracy: 1.0000 - lr: 0.0010\n",
      "Epoch 47/50\n",
      "21/21 [==============================] - ETA: 0s - loss: 0.4220 - categorical_accuracy: 0.8214\n",
      "Epoch 00047: saving model to model_init_exp_16_2024-07-3115_54_19.220716/model-00047-0.42199-0.82143-0.71076-0.77344.h5\n",
      "21/21 [==============================] - 71s 3s/step - loss: 0.4220 - categorical_accuracy: 0.8214 - val_loss: 0.7108 - val_categorical_accuracy: 0.7734 - lr: 0.0010\n",
      "Epoch 48/50\n",
      "21/21 [==============================] - ETA: 0s - loss: 0.4548 - categorical_accuracy: 0.8155\n",
      "Epoch 00048: saving model to model_init_exp_16_2024-07-3115_54_19.220716/model-00048-0.45484-0.81548-0.00000-1.00000.h5\n",
      "21/21 [==============================] - 60s 3s/step - loss: 0.4548 - categorical_accuracy: 0.8155 - val_loss: 0.0000e+00 - val_categorical_accuracy: 1.0000 - lr: 0.0010\n",
      "Epoch 49/50\n",
      "21/21 [==============================] - ETA: 0s - loss: 0.4491 - categorical_accuracy: 0.8080\n",
      "Epoch 00049: saving model to model_init_exp_16_2024-07-3115_54_19.220716/model-00049-0.44914-0.80804-0.00000-1.00000.h5\n",
      "21/21 [==============================] - 62s 3s/step - loss: 0.4491 - categorical_accuracy: 0.8080 - val_loss: 0.0000e+00 - val_categorical_accuracy: 1.0000 - lr: 0.0010\n",
      "Epoch 50/50\n",
      "21/21 [==============================] - ETA: 0s - loss: 0.3850 - categorical_accuracy: 0.8408\n",
      "Epoch 00050: saving model to model_init_exp_16_2024-07-3115_54_19.220716/model-00050-0.38499-0.84077-0.00000-1.00000.h5\n",
      "21/21 [==============================] - 62s 3s/step - loss: 0.3850 - categorical_accuracy: 0.8408 - val_loss: 0.0000e+00 - val_categorical_accuracy: 1.0000 - lr: 0.0010\n"
     ]
    }
   ],
   "source": [
    "history = model.fit_generator(train_generator, steps_per_epoch=steps_per_epoch, epochs=num_epochs, verbose=1, \n",
    "                        callbacks=callbacks_list, validation_data=val_generator, \n",
    "                        validation_steps=validation_steps, class_weight=None, workers=1, initial_epoch=0)"
   ]
  },
  {
   "cell_type": "code",
   "execution_count": 60,
   "metadata": {},
   "outputs": [
    {
     "data": {
      "text/plain": [
       "<matplotlib.legend.Legend at 0x7f9caba5af70>"
      ]
     },
     "execution_count": 60,
     "metadata": {},
     "output_type": "execute_result"
    },
    {
     "data": {
      "image/png": "[encoded data removed]",
      "text/plain": [
       "<Figure size 1440x432 with 2 Axes>"
      ]
     },
     "metadata": {
      "needs_background": "light"
     },
     "output_type": "display_data"
    }
   ],
   "source": [
    "plt.figure(figsize=(20,6))\n",
    "ax1 = plt.subplot(121)\n",
    "ax1 = plt.plot(history.history['loss'])\n",
    "ax1 = plt.plot(history.history['val_loss'])\n",
    "plt.title('model loss')\n",
    "plt.ylabel('loss')\n",
    "plt.xlabel('epoch')\n",
    "plt.legend(['train', 'validation'], loc='lower left')\n",
    "ax2 = plt.subplot(122)\n",
    "ax2 = plt.plot(history.history['categorical_accuracy'])\n",
    "ax2 = plt.plot(history.history['val_categorical_accuracy'])\n",
    "plt.title('model accuracy')\n",
    "plt.ylabel('categorical_accuracy')\n",
    "plt.xlabel('epoch')\n",
    "plt.legend(['train', 'validation'], loc='lower left')"
   ]
  },
  {
   "cell_type": "code",
   "execution_count": null,
   "metadata": {},
   "outputs": [],
   "source": []
  }
 ],
 "metadata": {
  "kernelspec": {
   "display_name": "Python 3 (ipykernel)",
   "language": "python",
   "name": "python3"
  },
  "language_info": {
   "codemirror_mode": {
    "name": "ipython",
    "version": 3
   },
   "file_extension": ".py",
   "mimetype": "text/x-python",
   "name": "python",
   "nbconvert_exporter": "python",
   "pygments_lexer": "ipython3",
   "version": "3.8.10"
  }
 },
 "nbformat": 4,
 "nbformat_minor": 4
}
